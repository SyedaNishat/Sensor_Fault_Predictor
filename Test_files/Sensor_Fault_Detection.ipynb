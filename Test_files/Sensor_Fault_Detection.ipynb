{
 "cells": [
  {
   "cell_type": "markdown",
   "id": "91f4bde7-e9bc-4791-bec2-934d8642e1d5",
   "metadata": {},
   "source": [
    "# Sensor Fault Detection and Prediction System\n",
    "\n",
    "**💡 Overview:**\n",
    "\n",
    "Build an AI-powered tool that ingests time-series sensor data from industrial systems (like railway automation, HVAC, or manufacturing), detects anomalies (faults), and predicts potential failures using machine learning.\n",
    "\n",
    "**🔧 Technologies:**\n",
    "\n",
    "- *Python, Pandas, NumPy*\n",
    "\n",
    "- *Scikit-learn / XGBoost / Isolation Forest*\n",
    "\n",
    "- **Streamlit** for UI dashboard\n",
    "\n",
    "- **SQLite or PostgreSQL** for storing sensor logs\n",
    "\n",
    "- **Matplotlib / Seaborn / Plotly** for visualization\n",
    "\n",
    "- (Optional) **Power BI** for external reports"
   ]
  },
  {
   "cell_type": "markdown",
   "id": "368284aa-264e-4b26-925a-5334b61ed6c4",
   "metadata": {},
   "source": [
    "--------------------------------------------------------------\n",
    "**🎯 Key Features:**\n",
    "\n",
    "📂 Upload sensor CSV files (with time, sensor values)\n",
    "\n",
    "📉 Auto-detect outliers and sensor drift using **statistical & ML models**\n",
    "\n",
    "⏳ Handle varying time intervals and **resample/align sensor streams**\n",
    "\n",
    "⚠️ Classify sensor readings as Normal, Faulty, or At-Risk\n",
    "\n",
    "📊 Visual charts: time series, moving averages, anomaly markers\n",
    "\n",
    "🗃️ Save processed logs with results in a database\n",
    "\n",
    "🔍 Filter logs by sensor type, timestamp, or fault severity"
   ]
  },
  {
   "cell_type": "markdown",
   "id": "651fbda0-118f-4b92-a1ea-172d8d107e97",
   "metadata": {},
   "source": [
    "-----------------------------------------------------------------------\n",
    "**🔬 AI/ML Components:**\n",
    "    \n",
    "- Isolation Forest / One-Class SVM for anomaly detection\n",
    "\n",
    "- Random Forest / XGBoost for supervised fault prediction (if labeled data available)\n",
    "\n",
    "- Rolling statistics and Z-score detection for signal deviation"
   ]
  },
  {
   "cell_type": "markdown",
   "id": "28fff181-db5c-42db-9cee-1a4f4f7d8204",
   "metadata": {},
   "source": [
    "---------------------------------------------------------------------\n",
    "**🚀 Bonus Features:**\n",
    "\n",
    "- Export fault logs for Power BI\n",
    "\n",
    "- Build alerting system (email/Slack) for high-risk readings\n",
    "\n",
    "- Train and deploy ML model using .pkl file in the app"
   ]
  },
  {
   "cell_type": "markdown",
   "id": "42853e60-954f-4534-9926-8ba0c273ff26",
   "metadata": {},
   "source": [
    "-----------------------------------------------------------------------------------\n",
    "**📂 GitHub Folder Structure Suggestion:**\n",
    "\n",
    "Sensor_Fault_Predictor/\n",
    "├── data/\n",
    "│   └── sample_sensor_data.csv\n",
    "├── models/\n",
    "│   └── fault_model.pkl\n",
    "├── streamlit_app/\n",
    "│   └── app.py\n",
    "│   └── init_db.py\n",
    "├── utils/\n",
    "│   └── preprocess.py\n",
    "├── requirements.txt\n",
    "├── README.md\n",
    "└── .gitignore\n"
   ]
  },
  {
   "cell_type": "markdown",
   "id": "0c368ac2-cae9-4a5c-9222-fe38c54a8e07",
   "metadata": {},
   "source": [
    "--------------------------------------------------------------------------------------\n",
    "**🧠 Why This Project is Great:**\n",
    "\n",
    "- Combines **instrumentation signals + AI** — exactly my domain\n",
    "\n",
    "- Highlights **anomaly detection**, a hot topic in predictive maintenance\n",
    "\n",
    "- Demonstrates **real-time data analysis**, which is valuable in any automation/QA role"
   ]
  },
  {
   "cell_type": "code",
   "execution_count": 1,
   "id": "38e16e48-1a95-4f39-ac92-f14d13f14432",
   "metadata": {},
   "outputs": [
    {
     "name": "stdout",
     "output_type": "stream",
     "text": [
      "✅ Dataset saved as 'sensor_fault_data.csv'\n"
     ]
    }
   ],
   "source": [
    "import pandas as pd\n",
    "import numpy as np\n",
    "from datetime import datetime, timedelta\n",
    "import random\n",
    "\n",
    "# Set seed for reproducibility\n",
    "np.random.seed(42)\n",
    "random.seed(42)\n",
    "\n",
    "sensor_ids = [f\"SENSOR_{i}\" for i in range(1, 6)]\n",
    "start_time = datetime(2024, 1, 1, 0, 0, 0)\n",
    "timestamps = [start_time + timedelta(minutes=i) for i in range(0, 1440)]  # 1 day at 1-min intervals\n",
    "\n",
    "data = []\n",
    "for timestamp in timestamps:\n",
    "    for sensor in sensor_ids:\n",
    "        value = round(np.random.normal(loc=50, scale=10), 2)\n",
    "        if random.random() < 0.01:\n",
    "            value += random.choice([50, -50])  # simulate fault spike/drop\n",
    "        data.append([timestamp, sensor, value])\n",
    "\n",
    "df = pd.DataFrame(data, columns=[\"Timestamp\", \"SensorID\", \"SensorValue\"])\n",
    "df.to_csv(\"sensor_fault_data.csv\", index=False)\n",
    "print(\"✅ Dataset saved as 'sensor_fault_data.csv'\")"
   ]
  },
  {
   "cell_type": "markdown",
   "id": "fd4a4f32-f2d4-47dd-82ec-65e33e84f452",
   "metadata": {},
   "source": [
    "--------------------------------------------------------------------------\n",
    "**🎯 Objective**\n",
    "\n",
    "We are building a tool that:\n",
    "\n",
    "- **Ingests sensor data** (like temperature, pressure, voltage, etc.) from industrial systems (railways, factories, etc.)\n",
    "\n",
    "- **Detects faults or anomalies** in the data (like sudden spikes or drops)\n",
    "\n",
    "- **Predicts potential future failures** using ML (optional advanced phase)\n",
    "\n",
    "- **Displays everything in a user-friendly dashboard** using Streamlit or Power BI"
   ]
  },
  {
   "cell_type": "markdown",
   "id": "8a63fecf-4c33-4306-ae83-8992ec4f199b",
   "metadata": {},
   "source": [
    "-------------------------------------------------------------------------------------------\n",
    "**🧱 What Each Part Does**\n",
    "\n",
    "| Phase                                   | Description                                                                |\n",
    "| --------------------------------------- | -------------------------------------------------------------------------- |\n",
    "| **1. Upload Sensor Data**               | Upload a `.csv` file containing timestamped sensor readings                |\n",
    "| **2. Preprocess Data**                  | Handle time formatting, missing data, etc.                                 |\n",
    "| **3. Fault Detection (NLP-like logic)** | Use **rules** (e.g., spikes > ±3 std dev) or ML to detect faulty readings  |\n",
    "| **4. Visualization**                    | Show sensor values over time, highlight faults                             |\n",
    "| **5. Filtering & Export**               | Allow filtering by sensor, time, or fault type — export to CSV or Power BI |\n",
    "| **6. (Bonus) Fault Prediction**         | Use a trained ML model to predict fault likelihood                         |\n",
    "\n"
   ]
  },
  {
   "cell_type": "markdown",
   "id": "a26bff50-f395-421b-a873-f89bc169e8e1",
   "metadata": {},
   "source": [
    "--------------------------------------------------------------------------\n",
    "**🛠️ Real-Life Analogy**\n",
    "\n",
    "Imagine we’re monitoring:\n",
    "\n",
    "**1**. Sensors inside a train (track pressure, signal relay voltage, door temperature)\n",
    "\n",
    "**2**. We want to **automatically find weird readings** (e.g., voltage drops, temperature spikes)\n",
    "\n",
    "**3**. Then **classify or predict** which sensor might fail soon — **before** it happens."
   ]
  },
  {
   "cell_type": "markdown",
   "id": "50b8fdfc-2871-426c-bbe3-79b39fe092f7",
   "metadata": {},
   "source": [
    "---------------------------------\n",
    "**✅ What we’ll Learn/Showcase**\n",
    "\n",
    "- Real-world **time-series data handling**\n",
    "- Use of **rule-based or ML-based anomaly detection**\n",
    "- *Streamlit app development*\n",
    "- Data filtering, fault visualization, and **dashboard deployment**\n",
    "- Optional: ML model training and integration (.pkl)"
   ]
  },
  {
   "cell_type": "markdown",
   "id": "050f0f3c-5efe-4edc-b1fe-ba4082c67906",
   "metadata": {},
   "source": [
    "------------------------------------------------------------\n",
    "# ✅ Phase 1: Set Up Your Project Folder Structure\n",
    "\n",
    "Sensor_Fault_Detector/\n",
    "├── data/\n",
    "│   └── sensor_fault_data.csv      ← sample data file\n",
    "├── streamlit_app/\n",
    "│   └── app.py                     ← Streamlit dashboard app\n",
    "├── utils/\n",
    "│   └── data_processing.py         ← data cleaning and fault detection functions\n",
    "├── models/\n",
    "│   └── model.pkl                  ← trained ML model (optional)\n",
    "├── requirements.txt\n",
    "├── README.md\n",
    "└── .gitignore\n"
   ]
  },
  {
   "cell_type": "markdown",
   "id": "c0c4cedf-fb16-42a9-8729-825db28a8e23",
   "metadata": {},
   "source": [
    "**✅ Phase 2:** Add the Dataset\n",
    "\n",
    "Place the sensor_fault_data.csv file generated into the data/ folder."
   ]
  },
  {
   "cell_type": "markdown",
   "id": "8eb5f302-1e23-4dc6-aaec-d46630941024",
   "metadata": {},
   "source": [
    "**✅ Phase 3:**\n",
    "\n",
    "Create Streamlit App Skeleton (app.py)\n",
    "\n",
    "Let’s create a basic working Streamlit app:\n",
    "\n",
    "📍 File: streamlit_app/app.py"
   ]
  },
  {
   "cell_type": "markdown",
   "id": "8f2e41b9-d464-4843-8073-980210e20505",
   "metadata": {},
   "source": [
    "**✅ Phase 4:**\n",
    "\n",
    "Data Preprocessing & Fault Detection, We'll build a Python utility file to:\n",
    "\n",
    "1. Load the sensor data\n",
    "2. Detect faults (e.g., using Z-score method)\n",
    "3. Return a DataFrame with an added FaultType column"
   ]
  },
  {
   "cell_type": "markdown",
   "id": "45ac6b7c-0389-4a56-ac75-67d61bb0b7b2",
   "metadata": {},
   "source": [
    "**✅ Phase 5:**\n",
    "\n",
    "Use This in Streamlit (app.py)\n",
    "Now, go back to app.py and update it like this:\n",
    "\n",
    "📍 Modified app.py"
   ]
  },
  {
   "cell_type": "markdown",
   "id": "914f3cdd-021e-4099-97bf-e16a2aec2bda",
   "metadata": {},
   "source": [
    "-----------------------------------------------------------------------\n",
    "\n",
    "**🚀 Top Feature Additions (to make your project stand out)**\n",
    "\n",
    "**✅ Level 1: Must-Have Enhancements**\n",
    "\n",
    "| Feature                     | What it does                               | Why it’s useful                         |\n",
    "| --------------------------- | ------------------------------------------ | --------------------------------------- |\n",
    "| 📥 CSV Export               | Download filtered or processed data        | Helps users save their results          |\n",
    "| ⏳ Date Range Filter         | Filter logs by date (using `Timestamp`)    | Enables time-based fault analysis       |\n",
    "| ⚠️ Fault Severity Score     | Classify faults into Critical/Warning/Info | Adds business relevance                 |\n",
    "| 📈 Sensor Trend Line Charts | Line plot for sensor values over time      | Helps spot drifts or anomalies visually |\n",
    "| 🔄 Refresh Database Button  | Add button to clear/reload DB              | Useful for testing or restarting        |\n"
   ]
  },
  {
   "cell_type": "markdown",
   "id": "abc944d4-f585-473c-a9eb-026fae9db105",
   "metadata": {},
   "source": [
    "**✅ Step 1:** Date Range Filter (on Timestamp)\n",
    "\n",
    "**🎯 Goal:**\n",
    "\n",
    "Allow users to filter the sensor data by a start and end date using the Timestamp column.\n",
    "\n",
    "📝 This ensures all downstream charts, tables, and fault summaries will reflect only the selected date range.\n",
    "\n",
    "**✅ Step 2:** Sensor Trend Line Charts\n",
    "\n",
    "**🎯 Goal:**\n",
    "\n",
    "Visualize time-series trends of sensor readings to identify drifts, spikes, or patterns.\n",
    "\n",
    "💡 What this does:\n",
    "\n",
    "1. Auto-detects sensor columns like Sensor_1, Sensor_2, etc.\n",
    "2. Lets the user select which sensors to visualize.\n",
    "3. Plots trend over time using Streamlit’s built-in line_chart()."
   ]
  },
  {
   "cell_type": "markdown",
   "id": "065dede0-a671-483a-8476-2e1b65228355",
   "metadata": {},
   "source": [
    "**🔍 Level 2: Smart Analysis Features**\n",
    "\n",
    "| Feature                         | Description                                                                            |\n",
    "| ------------------------------- | -------------------------------------------------------------------------------------- |\n",
    "| 📉 **Sensor Drift Detection**   | Detect gradual deviation from normal sensor behavior                                   |\n",
    "| 🔄 **Compare Two Sensors**      | Side-by-side trend comparison of two sensors                                           |\n",
    "| 🧠 **ML Prediction (optional)** | Use ML model (e.g. IsolationForest or Logistic Regression) to predict fault likelihood |\n"
   ]
  },
  {
   "cell_type": "markdown",
   "id": "e4643096-6efe-4dcf-9bfa-dba936385155",
   "metadata": {},
   "source": [
    "**🌐 Level 3: Dashboard Polish**\n",
    "\n",
    "| Feature               | Description                                    |\n",
    "| --------------------- | ---------------------------------------------- |\n",
    "| 🌙 Dark Mode Toggle   | Theme switch for user preference               |\n",
    "| 🗂️ Tabbed Sections   | Use `st.tabs()` for Upload, Analyze, Download  |\n",
    "| 📷 Export Plot as PNG | Save fault charts directly from UI             |\n",
    "| 📌 Notes Section      | Add manual annotations for faults from the app |\n"
   ]
  },
  {
   "cell_type": "markdown",
   "id": "e4d7a409-af6e-4723-a196-fe28e61cb5e7",
   "metadata": {},
   "source": [
    "Let’s pick 3 enhancements to start with:\n",
    "\n",
    "1. Date Range Filter\n",
    "2. Sensor Trend Line Chart\n",
    "3. Fault Severity Classification"
   ]
  },
  {
   "cell_type": "markdown",
   "id": "56547a03-d431-45eb-9498-79e6c4504a3d",
   "metadata": {},
   "source": [
    "-----------------------------------------------------------------\n",
    "**🎤 Project Pitch (30 seconds)**\n",
    "\n",
    "\"I built a Streamlit-based dashboard called Sensor Fault Detection and Prediction System, which simulates real-world sensor monitoring using a custom dataset.\n",
    "\n",
    "It includes end-to-end data processing: from ingestion, cleaning, fault detection using domain logic, to visualizations like trend lines, fault distribution, and severity analysis.\n",
    "\n",
    "I also added smart filters like date range and sensor selection, and allowed export of processed data.\n",
    "This project showcases my skills in Python, pandas, Streamlit, and real-time fault monitoring — blending my instrumentation background with AI/data capabilities.\n",
    "\n",
    "I designed it to be Git-ready with modular code, clear folder structure, and a user-friendly interface.\""
   ]
  },
  {
   "cell_type": "markdown",
   "id": "3b701c58-1de2-4738-b4e9-271895def2df",
   "metadata": {},
   "source": [
    "✅ Customization Options\n",
    "\n",
    "If applying for a Data Analyst role, add:\n",
    "\n",
    "\"It simulates live sensor data analysis, mimicking a production monitoring dashboard for anomaly trends and classification.\"\n",
    "\n",
    "If applying for AI/ML or Automation roles, add:\n",
    "\n",
    "\"This lays the foundation for integrating ML models for predictive maintenance in future iterations.\""
   ]
  },
  {
   "cell_type": "markdown",
   "id": "fbf3399c-60d6-4743-b246-4eb58b806a53",
   "metadata": {},
   "source": [
    "🔧 2. Add Unit Test for detect_faults() Function\n",
    "\n",
    "This function is responsible for labeling faults and severity per sensor reading. We’ll:\n",
    "\n",
    "Create a small mock dataset with expected faulty values.\n",
    "\n",
    "Validate if it assigns correct FaultType and Severity."
   ]
  },
  {
   "cell_type": "markdown",
   "id": "df1fbc5f-1a13-4c84-be50-061d52daaaa3",
   "metadata": {},
   "source": [
    "✅ You’ve Completed:\n",
    "1. Improved Unit Test Coverage\n",
    "\n",
    "test_preprocess_sensor_data_basic ✅ Passed\n",
    "\n",
    "test_detect_faults_classification ✅ Passed\n",
    "\n",
    "🔜 Next Step:\n",
    "\n",
    "2. Add Logging to data_processing.py for Better Debugging\n",
    "3. \n",
    "Logging will help track how sensor data is processed, which thresholds triggered faults, etc."
   ]
  },
  {
   "cell_type": "markdown",
   "id": "159f5c8d-2eb6-4e08-b4db-cf2bfce031b1",
   "metadata": {},
   "source": [
    "3. 🛡️ Add Input Validation & Error Handling (High Priority)\n",
    "This step ensures the app gracefully handles:\n",
    "\n",
    "Missing required columns\n",
    "\n",
    "Empty files\n",
    "\n",
    "Wrong formats (e.g. Excel instead of CSV)\n",
    "\n",
    "Invalid sensor values\n",
    "\n",
    "✅ What This Adds:\n",
    "\n",
    "| Check                     | Result                                 |\n",
    "| ------------------------- | -------------------------------------- |\n",
    "| Missing columns           | Stops and shows missing ones           |\n",
    "| Empty file                | Shows error                            |\n",
    "| Corrupted or wrong format | Informs user to upload a proper CSV    |\n",
    "| Unexpected error          | Logs and shows a general error message |\n"
   ]
  }
 ],
 "metadata": {
  "kernelspec": {
   "display_name": "Python 3 (ipykernel)",
   "language": "python",
   "name": "python3"
  },
  "language_info": {
   "codemirror_mode": {
    "name": "ipython",
    "version": 3
   },
   "file_extension": ".py",
   "mimetype": "text/x-python",
   "name": "python",
   "nbconvert_exporter": "python",
   "pygments_lexer": "ipython3",
   "version": "3.12.7"
  }
 },
 "nbformat": 4,
 "nbformat_minor": 5
}
